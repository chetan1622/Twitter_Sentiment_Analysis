{
 "cells": [
  {
   "cell_type": "code",
   "execution_count": 1,
   "id": "1753cc22-76b3-4fa7-a244-a1570992cb43",
   "metadata": {},
   "outputs": [
    {
     "name": "stdout",
     "output_type": "stream",
     "text": [
      "Requirement already satisfied: tweepy in e:\\anaco\\lib\\site-packages (4.14.0)\n",
      "Requirement already satisfied: oauthlib<4,>=3.2.0 in e:\\anaco\\lib\\site-packages (from tweepy) (3.2.2)\n",
      "Requirement already satisfied: requests<3,>=2.27.0 in e:\\anaco\\lib\\site-packages (from tweepy) (2.32.2)\n",
      "Requirement already satisfied: requests-oauthlib<2,>=1.2.0 in e:\\anaco\\lib\\site-packages (from tweepy) (1.3.1)\n",
      "Requirement already satisfied: charset-normalizer<4,>=2 in e:\\anaco\\lib\\site-packages (from requests<3,>=2.27.0->tweepy) (2.0.4)\n",
      "Requirement already satisfied: idna<4,>=2.5 in e:\\anaco\\lib\\site-packages (from requests<3,>=2.27.0->tweepy) (3.7)\n",
      "Requirement already satisfied: urllib3<3,>=1.21.1 in e:\\anaco\\lib\\site-packages (from requests<3,>=2.27.0->tweepy) (2.2.2)\n",
      "Requirement already satisfied: certifi>=2017.4.17 in e:\\anaco\\lib\\site-packages (from requests<3,>=2.27.0->tweepy) (2024.7.4)\n"
     ]
    }
   ],
   "source": [
    "!pip install tweepy"
   ]
  },
  {
   "cell_type": "code",
   "execution_count": 3,
   "id": "394d85ad-66f6-4570-b747-528d43b88597",
   "metadata": {},
   "outputs": [
    {
     "name": "stdout",
     "output_type": "stream",
     "text": [
      "Requirement already satisfied: textblob in e:\\anaco\\lib\\site-packages (0.18.0.post0)\n",
      "Requirement already satisfied: nltk>=3.8 in e:\\anaco\\lib\\site-packages (from textblob) (3.8.1)\n",
      "Requirement already satisfied: click in e:\\anaco\\lib\\site-packages (from nltk>=3.8->textblob) (8.1.7)\n",
      "Requirement already satisfied: joblib in e:\\anaco\\lib\\site-packages (from nltk>=3.8->textblob) (1.4.2)\n",
      "Requirement already satisfied: regex>=2021.8.3 in e:\\anaco\\lib\\site-packages (from nltk>=3.8->textblob) (2023.10.3)\n",
      "Requirement already satisfied: tqdm in e:\\anaco\\lib\\site-packages (from nltk>=3.8->textblob) (4.66.4)\n",
      "Requirement already satisfied: colorama in e:\\anaco\\lib\\site-packages (from click->nltk>=3.8->textblob) (0.4.6)\n"
     ]
    }
   ],
   "source": [
    "!pip install textblob"
   ]
  },
  {
   "cell_type": "code",
   "execution_count": 5,
   "id": "e0a05dd4-d61d-4f06-9400-afb353b1892e",
   "metadata": {},
   "outputs": [],
   "source": [
    "import re \n",
    "import tweepy\n",
    "from tweepy import OAuthHandler\n",
    "from textblob import TextBlob"
   ]
  },
  {
   "cell_type": "code",
   "execution_count": 7,
   "id": "52a2a964-d96b-4f85-9dd5-0e7230fd61ea",
   "metadata": {},
   "outputs": [],
   "source": [
    "consumer_key = 'h3E54HbaNcz3R5DriSnScsTX1'\n",
    "consumer_secret = 'T3oTTJ8gpJN7BeuIEb4mWvtl4hhxhfOTXP6h8omGZrO11D4ahH'\n",
    "access_token = '1580246313970520064-aMRU7FJK984DWTiwSeU3Ynoirx8tE7'\n",
    "access_token_secret = 'cXSxI7Tgm3mtMLskyA0kYzyBjm1qm22jpfyElF7jx7QIX'"
   ]
  },
  {
   "cell_type": "code",
   "execution_count": 9,
   "id": "1d6a8e05-3f21-4dfb-a93c-856c502520d7",
   "metadata": {},
   "outputs": [],
   "source": [
    "auth = OAuthHandler(consumer_key, consumer_secret)\n",
    "auth.set_access_token(access_token, access_token_secret)\n",
    "api = tweepy.API(auth)\n"
   ]
  },
  {
   "cell_type": "code",
   "execution_count": 11,
   "id": "60604b12-1666-4359-823b-15673c262492",
   "metadata": {},
   "outputs": [
    {
     "name": "stdout",
     "output_type": "stream",
     "text": [
      "Tweets have been saved to tweets_output.csv\n"
     ]
    }
   ],
   "source": [
    "import tweepy\n",
    "import csv\n",
    "\n",
    "# Twitter API v2 credentials\n",
    "bearer_token = \"AAAAAAAAAAAAAAAAAAAAAOB%2BiAEAAAAAKmGJJKzG8kZaiCqW3ySt2fsKhgA%3DF4FZMChBjlt98dm08kRkmaYye5JeIXCq40lBbxhFkbZH3uAGu3\"\n",
    "\n",
    "# Initialize Twitter client\n",
    "client = tweepy.Client(bearer_token=bearer_token)\n",
    "\n",
    "# Search for tweets containing the keyword \"fifa\"\n",
    "query = \"fifa -is:retweet lang:en\"\n",
    "tweets = client.search_recent_tweets(query=query, max_results=10)\n",
    "\n",
    "# Specify the CSV file name\n",
    "csv_file = \"tweets_output.csv\"\n",
    "\n",
    "# Open the CSV file in write mode\n",
    "with open(csv_file, mode=\"w\", newline=\"\", encoding=\"utf-8\") as file:\n",
    "    writer = csv.writer(file)\n",
    "    # Write the header row\n",
    "    writer.writerow([\"Tweet ID\", \"Text\", \"Created At\"])\n",
    "\n",
    "    # Write the tweet data\n",
    "    for tweet in tweets.data:\n",
    "        tweet_id = tweet.id\n",
    "        tweet_text = tweet.text\n",
    "        created_at = tweet.created_at  # Available only if `tweet.fields=created_at` is included in the query\n",
    "        writer.writerow([tweet_id, tweet_text, created_at])\n",
    "\n",
    "print(f\"Tweets have been saved to {csv_file}\")\n"
   ]
  },
  {
   "cell_type": "code",
   "execution_count": 13,
   "id": "911fa350-05b9-463a-9f5a-e60f109e132d",
   "metadata": {},
   "outputs": [],
   "source": [
    "analysis = TextBlob(tweet.text)"
   ]
  },
  {
   "cell_type": "code",
   "execution_count": 15,
   "id": "334aabc4-6622-4837-aec2-1aa785bbb3d4",
   "metadata": {},
   "outputs": [
    {
     "name": "stdout",
     "output_type": "stream",
     "text": [
      "Sentiment(polarity=0.25, subjectivity=0.3333333333333333)\n"
     ]
    }
   ],
   "source": [
    "print(analysis.sentiment)"
   ]
  }
 ],
 "metadata": {
  "kernelspec": {
   "display_name": "Python 3 (ipykernel)",
   "language": "python",
   "name": "python3"
  },
  "language_info": {
   "codemirror_mode": {
    "name": "ipython",
    "version": 3
   },
   "file_extension": ".py",
   "mimetype": "text/x-python",
   "name": "python",
   "nbconvert_exporter": "python",
   "pygments_lexer": "ipython3",
   "version": "3.12.4"
  }
 },
 "nbformat": 4,
 "nbformat_minor": 5
}
